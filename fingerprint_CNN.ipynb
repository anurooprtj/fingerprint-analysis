{
  "nbformat": 4,
  "nbformat_minor": 0,
  "metadata": {
    "colab": {
      "name": "fingerprint_CNN.ipynb",
      "version": "0.3.2",
      "provenance": []
    },
    "kernelspec": {
      "name": "python3",
      "display_name": "Python 3"
    },
    "accelerator": "GPU"
  },
  "cells": [
    {
      "cell_type": "code",
      "metadata": {
        "id": "Y1mZXWGqCMsf",
        "colab_type": "code",
        "colab": {}
      },
      "source": [
        "import numpy as np\n",
        "\n",
        "import tensorflow as tf\n",
        "from tensorflow import keras\n",
        "\n",
        "import matplotlib.pyplot as plt\n",
        "%matplotlib inline\n",
        "\n",
        "import pandas as pd\n",
        "\n",
        "np.random.seed(42)\n",
        "tf.set_random_seed(42)"
      ],
      "execution_count": 0,
      "outputs": []
    },
    {
      "cell_type": "code",
      "metadata": {
        "id": "H0SOPdPzDCif",
        "colab_type": "code",
        "colab": {}
      },
      "source": [
        "def loadNpData():\n",
        "  data = np.load('/content/drive/My Drive/ML_Data/fingerprint_Xception/fingerprint_data.npz')\n",
        "  x_ld = data['x']\n",
        "  y_ld = data['y']  \n",
        "  \n",
        "  return x_ld, y_ld"
      ],
      "execution_count": 0,
      "outputs": []
    },
    {
      "cell_type": "code",
      "metadata": {
        "id": "45h9N2q7DFme",
        "colab_type": "code",
        "colab": {
          "base_uri": "https://localhost:8080/",
          "height": 51
        },
        "outputId": "3e2edd01-6136-41c1-94c6-90d60ccde94c"
      },
      "source": [
        "X, y = loadNpData()\n",
        "\n",
        "print(\"Shape of X: \", X.shape)\n",
        "print(\"Shape of y: \", y.shape)"
      ],
      "execution_count": 3,
      "outputs": [
        {
          "output_type": "stream",
          "text": [
            "Shape of X:  (500, 28, 28)\n",
            "Shape of y:  (500, 1)\n"
          ],
          "name": "stdout"
        }
      ]
    },
    {
      "cell_type": "code",
      "metadata": {
        "id": "MNX7udZADHmm",
        "colab_type": "code",
        "colab": {
          "base_uri": "https://localhost:8080/",
          "height": 85
        },
        "outputId": "be2c0e5e-df03-4f37-c8ff-906fbdd44547"
      },
      "source": [
        "from sklearn.model_selection import train_test_split\n",
        "\n",
        "X_train, X_test, y_train, y_test = train_test_split(\n",
        "  X, y, test_size = 0.2, stratify = y, random_state = 42)\n",
        "\n",
        "print(\"X_train.shape::::::::::::::::::\", X_train.shape)\n",
        "print(\"X_test.shape:::::::::::::::::::\", X_test.shape)\n",
        "print(\"y_train.shape::::::::::::::::::\", y_train.shape)\n",
        "print(\"y_test.shape:::::::::::::::::::\", y_test.shape)"
      ],
      "execution_count": 4,
      "outputs": [
        {
          "output_type": "stream",
          "text": [
            "X_train.shape:::::::::::::::::: (400, 28, 28)\n",
            "X_test.shape::::::::::::::::::: (100, 28, 28)\n",
            "y_train.shape:::::::::::::::::: (400, 1)\n",
            "y_test.shape::::::::::::::::::: (100, 1)\n"
          ],
          "name": "stdout"
        }
      ]
    },
    {
      "cell_type": "code",
      "metadata": {
        "id": "EGXZQ7gvEgbR",
        "colab_type": "code",
        "colab": {
          "base_uri": "https://localhost:8080/",
          "height": 51
        },
        "outputId": "c66da932-62aa-4d9c-91fc-cf0555aa4c8d"
      },
      "source": [
        "X_train = X_train[..., np.newaxis]\n",
        "X_test = X_test[..., np.newaxis]\n",
        "\n",
        "print(\"X_train.shape::::::::::::::::::\", X_train.shape)\n",
        "print(\"X_test.shape:::::::::::::::::::\", X_test.shape)"
      ],
      "execution_count": 5,
      "outputs": [
        {
          "output_type": "stream",
          "text": [
            "X_train.shape:::::::::::::::::: (400, 28, 28, 1)\n",
            "X_test.shape::::::::::::::::::: (100, 28, 28, 1)\n"
          ],
          "name": "stdout"
        }
      ]
    },
    {
      "cell_type": "markdown",
      "metadata": {
        "id": "0vwbh_B-DgaI",
        "colab_type": "text"
      },
      "source": [
        "### Convolution Structure"
      ]
    },
    {
      "cell_type": "code",
      "metadata": {
        "id": "yaMC40m5Dlj-",
        "colab_type": "code",
        "colab": {
          "base_uri": "https://localhost:8080/",
          "height": 105
        },
        "outputId": "1d23ba34-28a6-4606-ba7b-a2db2a885b92"
      },
      "source": [
        "model_CNN = keras.models.Sequential()\n",
        "model_CNN.add(keras.layers.Conv2D(filters = 32, kernel_size = 3, padding = \"same\", \n",
        "                                 activation = \"relu\", input_shape = [28,28,1]))\n",
        "model_CNN.add(keras.layers.MaxPooling2D(pool_size = 2))\n",
        "\n",
        "model_CNN.add(keras.layers.Conv2D(filters = 64, kernel_size = 3, padding = \"same\",activation = \"relu\"))\n",
        "model_CNN.add(keras.layers.MaxPooling2D(pool_size = 2))\n",
        "\n",
        "model_CNN.add(keras.layers.Conv2D(filters = 64, kernel_size = 3, padding = \"same\", activation = \"relu\"))"
      ],
      "execution_count": 6,
      "outputs": [
        {
          "output_type": "stream",
          "text": [
            "WARNING: Logging before flag parsing goes to stderr.\n",
            "W0807 18:13:39.679537 139956829153152 deprecation.py:506] From /usr/local/lib/python3.6/dist-packages/tensorflow/python/ops/init_ops.py:1251: calling VarianceScaling.__init__ (from tensorflow.python.ops.init_ops) with dtype is deprecated and will be removed in a future version.\n",
            "Instructions for updating:\n",
            "Call initializer instance with the dtype argument instead of passing it to the constructor\n"
          ],
          "name": "stderr"
        }
      ]
    },
    {
      "cell_type": "code",
      "metadata": {
        "id": "FfENZT_qEqcg",
        "colab_type": "code",
        "colab": {
          "base_uri": "https://localhost:8080/",
          "height": 493
        },
        "outputId": "0444683f-b67a-4f2a-e2f3-acd93228b7aa"
      },
      "source": [
        "model_CNN.add(keras.layers.Flatten())\n",
        "model_CNN.add(keras.layers.Dense(units = 28, activation = 'relu'))\n",
        "model_CNN.add(keras.layers.Dense(units = 14, activation = 'relu'))\n",
        "model_CNN.add(keras.layers.Dense(units = 7, activation = 'relu'))\n",
        "model_CNN.add(keras.layers.Dense(units = 1, activation = 'sigmoid')) #Since it is a binary classificai\n",
        "model_CNN.summary()"
      ],
      "execution_count": 7,
      "outputs": [
        {
          "output_type": "stream",
          "text": [
            "Model: \"sequential\"\n",
            "_________________________________________________________________\n",
            "Layer (type)                 Output Shape              Param #   \n",
            "=================================================================\n",
            "conv2d (Conv2D)              (None, 28, 28, 32)        320       \n",
            "_________________________________________________________________\n",
            "max_pooling2d (MaxPooling2D) (None, 14, 14, 32)        0         \n",
            "_________________________________________________________________\n",
            "conv2d_1 (Conv2D)            (None, 14, 14, 64)        18496     \n",
            "_________________________________________________________________\n",
            "max_pooling2d_1 (MaxPooling2 (None, 7, 7, 64)          0         \n",
            "_________________________________________________________________\n",
            "conv2d_2 (Conv2D)            (None, 7, 7, 64)          36928     \n",
            "_________________________________________________________________\n",
            "flatten (Flatten)            (None, 3136)              0         \n",
            "_________________________________________________________________\n",
            "dense (Dense)                (None, 28)                87836     \n",
            "_________________________________________________________________\n",
            "dense_1 (Dense)              (None, 14)                406       \n",
            "_________________________________________________________________\n",
            "dense_2 (Dense)              (None, 7)                 105       \n",
            "_________________________________________________________________\n",
            "dense_3 (Dense)              (None, 1)                 8         \n",
            "=================================================================\n",
            "Total params: 144,099\n",
            "Trainable params: 144,099\n",
            "Non-trainable params: 0\n",
            "_________________________________________________________________\n"
          ],
          "name": "stdout"
        }
      ]
    },
    {
      "cell_type": "code",
      "metadata": {
        "id": "PalE7hHhH98D",
        "colab_type": "code",
        "colab": {
          "base_uri": "https://localhost:8080/",
          "height": 615
        },
        "outputId": "9c28c59e-0489-48e7-b26e-86e64f12e680"
      },
      "source": [
        "model_CNN.compile(loss=\"binary_crossentropy\",\n",
        "              optimizer=\"adam\", metrics=[\"accuracy\"])\n",
        "\n",
        "callbacks = [\n",
        "    keras.callbacks.EarlyStopping(patience=5),\n",
        "    keras.callbacks.ModelCheckpoint(\"/content/drive/My Drive/ML_Data/fingerprint_CNN/fingerprint_model.h5\", save_best_only=True),\n",
        "]\n",
        "history_CNN = model_CNN.fit(X_train,  y_train, epochs=100,\n",
        "                    validation_split = 0.1,\n",
        "                    callbacks=callbacks)"
      ],
      "execution_count": 8,
      "outputs": [
        {
          "output_type": "stream",
          "text": [
            "W0807 18:13:39.883300 139956829153152 deprecation.py:323] From /usr/local/lib/python3.6/dist-packages/tensorflow/python/ops/nn_impl.py:180: add_dispatch_support.<locals>.wrapper (from tensorflow.python.ops.array_ops) is deprecated and will be removed in a future version.\n",
            "Instructions for updating:\n",
            "Use tf.where in 2.0, which has the same broadcast rule as np.where\n"
          ],
          "name": "stderr"
        },
        {
          "output_type": "stream",
          "text": [
            "Train on 360 samples, validate on 40 samples\n",
            "Epoch 1/100\n",
            "360/360 [==============================] - 2s 7ms/sample - loss: 2.8238 - acc: 0.5361 - val_loss: 1.9558 - val_acc: 0.5000\n",
            "Epoch 2/100\n",
            "360/360 [==============================] - 0s 310us/sample - loss: 0.8280 - acc: 0.5583 - val_loss: 0.6828 - val_acc: 0.5500\n",
            "Epoch 3/100\n",
            "360/360 [==============================] - 0s 165us/sample - loss: 0.5958 - acc: 0.7083 - val_loss: 1.0331 - val_acc: 0.5000\n",
            "Epoch 4/100\n",
            "360/360 [==============================] - 0s 295us/sample - loss: 0.7086 - acc: 0.6778 - val_loss: 0.4740 - val_acc: 0.5000\n",
            "Epoch 5/100\n",
            "360/360 [==============================] - 0s 329us/sample - loss: 0.3879 - acc: 0.7556 - val_loss: 0.2514 - val_acc: 0.8750\n",
            "Epoch 6/100\n",
            "360/360 [==============================] - 0s 165us/sample - loss: 0.2301 - acc: 0.9194 - val_loss: 0.2635 - val_acc: 0.8750\n",
            "Epoch 7/100\n",
            "360/360 [==============================] - 0s 307us/sample - loss: 0.2096 - acc: 0.9306 - val_loss: 0.1638 - val_acc: 0.9500\n",
            "Epoch 8/100\n",
            "360/360 [==============================] - 0s 296us/sample - loss: 0.2827 - acc: 0.8778 - val_loss: 0.1262 - val_acc: 0.9500\n",
            "Epoch 9/100\n",
            "360/360 [==============================] - 0s 165us/sample - loss: 0.2056 - acc: 0.9278 - val_loss: 0.1591 - val_acc: 0.9500\n",
            "Epoch 10/100\n",
            "360/360 [==============================] - 0s 444us/sample - loss: 0.1898 - acc: 0.9389 - val_loss: 0.0966 - val_acc: 0.9750\n",
            "Epoch 11/100\n",
            "360/360 [==============================] - 0s 166us/sample - loss: 0.1549 - acc: 0.9472 - val_loss: 0.1238 - val_acc: 0.9500\n",
            "Epoch 12/100\n",
            "360/360 [==============================] - 0s 166us/sample - loss: 0.2006 - acc: 0.9278 - val_loss: 0.1618 - val_acc: 0.9500\n",
            "Epoch 13/100\n",
            "360/360 [==============================] - 0s 166us/sample - loss: 0.1459 - acc: 0.9528 - val_loss: 0.1199 - val_acc: 0.9500\n",
            "Epoch 14/100\n",
            "360/360 [==============================] - 0s 175us/sample - loss: 0.1562 - acc: 0.9500 - val_loss: 0.2096 - val_acc: 0.9500\n",
            "Epoch 15/100\n",
            "360/360 [==============================] - 0s 165us/sample - loss: 0.3267 - acc: 0.8833 - val_loss: 0.4947 - val_acc: 0.6000\n"
          ],
          "name": "stdout"
        }
      ]
    },
    {
      "cell_type": "code",
      "metadata": {
        "id": "qSQfexVpORFK",
        "colab_type": "code",
        "colab": {
          "base_uri": "https://localhost:8080/",
          "height": 139
        },
        "outputId": "9e34099d-8454-4829-b84a-c26159bf870a"
      },
      "source": [
        "bestModel = keras.models.load_model(\"/content/drive/My Drive/ML_Data/fingerprint_CNN/fingerprint_model.h5\")"
      ],
      "execution_count": 9,
      "outputs": [
        {
          "output_type": "stream",
          "text": [
            "W0807 18:13:44.764234 139956829153152 deprecation.py:506] From /usr/local/lib/python3.6/dist-packages/tensorflow/python/ops/init_ops.py:97: calling GlorotUniform.__init__ (from tensorflow.python.ops.init_ops) with dtype is deprecated and will be removed in a future version.\n",
            "Instructions for updating:\n",
            "Call initializer instance with the dtype argument instead of passing it to the constructor\n",
            "W0807 18:13:44.765931 139956829153152 deprecation.py:506] From /usr/local/lib/python3.6/dist-packages/tensorflow/python/ops/init_ops.py:97: calling Zeros.__init__ (from tensorflow.python.ops.init_ops) with dtype is deprecated and will be removed in a future version.\n",
            "Instructions for updating:\n",
            "Call initializer instance with the dtype argument instead of passing it to the constructor\n"
          ],
          "name": "stderr"
        }
      ]
    },
    {
      "cell_type": "code",
      "metadata": {
        "id": "MSTcBlVtPAiC",
        "colab_type": "code",
        "colab": {
          "base_uri": "https://localhost:8080/",
          "height": 51
        },
        "outputId": "8752c041-430c-4bc1-faac-60118fe3338f"
      },
      "source": [
        "test_loss, test_accuracy = bestModel.evaluate(X_test, y_test)\n",
        "\n",
        "print(\"Test loss{} and Test-accuracy {}\".format(test_loss, test_accuracy))"
      ],
      "execution_count": 10,
      "outputs": [
        {
          "output_type": "stream",
          "text": [
            "100/100 [==============================] - 0s 563us/sample - loss: 0.1067 - acc: 0.9800\n",
            "Test loss0.10673199236392975 and Test-accuracy 0.9800000190734863\n"
          ],
          "name": "stdout"
        }
      ]
    },
    {
      "cell_type": "code",
      "metadata": {
        "id": "7fcwfdbqPYA6",
        "colab_type": "code",
        "colab": {
          "base_uri": "https://localhost:8080/",
          "height": 295
        },
        "outputId": "debab8ba-d76d-4d72-cff8-b50e44c594d5"
      },
      "source": [
        "pd.DataFrame(history_CNN.history).plot()\n",
        "plt.grid(True)\n",
        "plt.xlabel('epochs')\n",
        "plt.ylabel(\"loss/accuracy\")\n",
        "plt.title(\"Training and Validation plot\")\n",
        "plt.show()"
      ],
      "execution_count": 11,
      "outputs": [
        {
          "output_type": "display_data",
          "data": {
            "image/png": "[encoded data removed]",
            "text/plain": [
              "<Figure size 432x288 with 1 Axes>"
            ]
          },
          "metadata": {
            "tags": []
          }
        }
      ]
    },
    {
      "cell_type": "code",
      "metadata": {
        "id": "_4-Z7n0cP1xc",
        "colab_type": "code",
        "colab": {}
      },
      "source": [
        ""
      ],
      "execution_count": 0,
      "outputs": []
    }
  ]
}