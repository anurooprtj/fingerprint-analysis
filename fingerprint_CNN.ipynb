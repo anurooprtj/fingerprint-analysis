{
  "nbformat": 4,
  "nbformat_minor": 0,
  "metadata": {
    "colab": {
      "name": "fingerprint_CNN.ipynb",
      "version": "0.3.2",
      "provenance": [],
      "toc_visible": true
    },
    "kernelspec": {
      "name": "python3",
      "display_name": "Python 3"
    },
    "accelerator": "GPU"
  },
  "cells": [
    {
      "cell_type": "code",
      "metadata": {
        "id": "zqi569iFC9WT",
        "colab_type": "code",
        "colab": {}
      },
      "source": [
        "from google.colab import drive\n",
        "drive.mount('/content/drive')"
      ],
      "execution_count": 0,
      "outputs": []
    },
    {
      "cell_type": "code",
      "metadata": {
        "id": "Y1mZXWGqCMsf",
        "colab_type": "code",
        "colab": {}
      },
      "source": [
        "import numpy as np\n",
        "\n",
        "import tensorflow as tf\n",
        "from tensorflow import keras\n",
        "\n",
        "import matplotlib.pyplot as plt\n",
        "%matplotlib inline\n",
        "\n",
        "import pandas as pd\n",
        "\n",
        "np.random.seed(42)\n",
        "tf.set_random_seed(42)"
      ],
      "execution_count": 0,
      "outputs": []
    },
    {
      "cell_type": "code",
      "metadata": {
        "id": "H0SOPdPzDCif",
        "colab_type": "code",
        "colab": {}
      },
      "source": [
        "def loadNpData():\n",
        "  x_ld = data['x']\n",
        "  y_ld = data['y']  \n",
        "  \n",
        "  return x_ld, y_ld\n",
        "\n",
        "def loadNpData():\n",
        "  data = np.load('/content/drive/My Drive/ML_Data/fingerprint_Xception/fingerprint_data.npz')\n",
        "  X_train_ld = data['xtrain']\n",
        "  X_test_ld = data['xtest']  \n",
        "  y_train_ld = data['ytrain']  \n",
        "  y_test_ld = data['ytest']  \n",
        "  \n",
        "  return X_train_ld, X_test_ld, y_train_ld, y_test_ld"
      ],
      "execution_count": 0,
      "outputs": []
    },
    {
      "cell_type": "code",
      "metadata": {
        "id": "45h9N2q7DFme",
        "colab_type": "code",
        "outputId": "c73eca5b-10c5-49aa-d930-319cc51c91d8",
        "colab": {
          "base_uri": "https://localhost:8080/",
          "height": 85
        }
      },
      "source": [
        "X_train, X_test, y_train, y_test = loadNpData()\n",
        "\n",
        "print(\"X_train.shape::::::::::::::::::\", X_train.shape)\n",
        "print(\"X_test.shape:::::::::::::::::::\", X_test.shape)\n",
        "print(\"y_train.shape::::::::::::::::::\", y_train.shape)\n",
        "print(\"y_test.shape:::::::::::::::::::\", y_test.shape)"
      ],
      "execution_count": 4,
      "outputs": [
        {
          "output_type": "stream",
          "text": [
            "X_train.shape:::::::::::::::::: (400, 28, 28)\n",
            "X_test.shape::::::::::::::::::: (100, 28, 28)\n",
            "y_train.shape:::::::::::::::::: (400, 1)\n",
            "y_test.shape::::::::::::::::::: (100, 1)\n"
          ],
          "name": "stdout"
        }
      ]
    },
    {
      "cell_type": "code",
      "metadata": {
        "id": "EGXZQ7gvEgbR",
        "colab_type": "code",
        "outputId": "af7519db-d8cd-4dfa-a4d3-d60a86e12f3b",
        "colab": {
          "base_uri": "https://localhost:8080/",
          "height": 51
        }
      },
      "source": [
        "X_train = X_train[..., np.newaxis]\n",
        "X_test = X_test[..., np.newaxis]\n",
        "\n",
        "print(\"X_train.shape::::::::::::::::::\", X_train.shape)\n",
        "print(\"X_test.shape:::::::::::::::::::\", X_test.shape)"
      ],
      "execution_count": 5,
      "outputs": [
        {
          "output_type": "stream",
          "text": [
            "X_train.shape:::::::::::::::::: (400, 28, 28, 1)\n",
            "X_test.shape::::::::::::::::::: (100, 28, 28, 1)\n"
          ],
          "name": "stdout"
        }
      ]
    },
    {
      "cell_type": "markdown",
      "metadata": {
        "id": "0vwbh_B-DgaI",
        "colab_type": "text"
      },
      "source": [
        "### Convolution Structure"
      ]
    },
    {
      "cell_type": "code",
      "metadata": {
        "id": "yaMC40m5Dlj-",
        "colab_type": "code",
        "outputId": "5f4d1933-2708-4a43-fe41-5b9e8cbcbb0e",
        "colab": {
          "base_uri": "https://localhost:8080/",
          "height": 105
        }
      },
      "source": [
        "model_CNN = keras.models.Sequential()\n",
        "model_CNN.add(keras.layers.Conv2D(filters = 32, kernel_size = 3, padding = \"same\", \n",
        "                                 activation = \"relu\", input_shape = [28,28,1]))\n",
        "model_CNN.add(keras.layers.MaxPooling2D(pool_size = 2))\n",
        "\n",
        "model_CNN.add(keras.layers.Conv2D(filters = 64, kernel_size = 3, padding = \"same\",activation = \"relu\"))\n",
        "model_CNN.add(keras.layers.MaxPooling2D(pool_size = 2))\n",
        "\n",
        "model_CNN.add(keras.layers.Conv2D(filters = 64, kernel_size = 3, padding = \"same\", activation = \"relu\"))"
      ],
      "execution_count": 6,
      "outputs": [
        {
          "output_type": "stream",
          "text": [
            "WARNING: Logging before flag parsing goes to stderr.\n",
            "W0816 06:12:53.756546 140266618615680 deprecation.py:506] From /usr/local/lib/python3.6/dist-packages/tensorflow/python/ops/init_ops.py:1251: calling VarianceScaling.__init__ (from tensorflow.python.ops.init_ops) with dtype is deprecated and will be removed in a future version.\n",
            "Instructions for updating:\n",
            "Call initializer instance with the dtype argument instead of passing it to the constructor\n"
          ],
          "name": "stderr"
        }
      ]
    },
    {
      "cell_type": "code",
      "metadata": {
        "id": "FfENZT_qEqcg",
        "colab_type": "code",
        "outputId": "1042247c-3e6b-485f-e415-b0268c246926",
        "colab": {
          "base_uri": "https://localhost:8080/",
          "height": 493
        }
      },
      "source": [
        "model_CNN.add(keras.layers.Flatten())\n",
        "model_CNN.add(keras.layers.Dense(units = 28, activation = 'relu'))\n",
        "model_CNN.add(keras.layers.Dense(units = 14, activation = 'relu'))\n",
        "model_CNN.add(keras.layers.Dense(units = 7, activation = 'relu'))\n",
        "model_CNN.add(keras.layers.Dense(units = 1, activation = 'sigmoid')) #Since it is a binary classification\n",
        "model_CNN.summary()"
      ],
      "execution_count": 7,
      "outputs": [
        {
          "output_type": "stream",
          "text": [
            "Model: \"sequential\"\n",
            "_________________________________________________________________\n",
            "Layer (type)                 Output Shape              Param #   \n",
            "=================================================================\n",
            "conv2d (Conv2D)              (None, 28, 28, 32)        320       \n",
            "_________________________________________________________________\n",
            "max_pooling2d (MaxPooling2D) (None, 14, 14, 32)        0         \n",
            "_________________________________________________________________\n",
            "conv2d_1 (Conv2D)            (None, 14, 14, 64)        18496     \n",
            "_________________________________________________________________\n",
            "max_pooling2d_1 (MaxPooling2 (None, 7, 7, 64)          0         \n",
            "_________________________________________________________________\n",
            "conv2d_2 (Conv2D)            (None, 7, 7, 64)          36928     \n",
            "_________________________________________________________________\n",
            "flatten (Flatten)            (None, 3136)              0         \n",
            "_________________________________________________________________\n",
            "dense (Dense)                (None, 28)                87836     \n",
            "_________________________________________________________________\n",
            "dense_1 (Dense)              (None, 14)                406       \n",
            "_________________________________________________________________\n",
            "dense_2 (Dense)              (None, 7)                 105       \n",
            "_________________________________________________________________\n",
            "dense_3 (Dense)              (None, 1)                 8         \n",
            "=================================================================\n",
            "Total params: 144,099\n",
            "Trainable params: 144,099\n",
            "Non-trainable params: 0\n",
            "_________________________________________________________________\n"
          ],
          "name": "stdout"
        }
      ]
    },
    {
      "cell_type": "code",
      "metadata": {
        "id": "PalE7hHhH98D",
        "colab_type": "code",
        "outputId": "72343642-e88a-4acf-f60a-274a72792ba4",
        "colab": {
          "base_uri": "https://localhost:8080/",
          "height": 649
        }
      },
      "source": [
        "model_CNN.compile(loss=\"binary_crossentropy\",\n",
        "              optimizer=\"adam\", metrics=[\"accuracy\"])\n",
        "\n",
        "callbacks = [\n",
        "    keras.callbacks.EarlyStopping(patience=5),\n",
        "    keras.callbacks.ModelCheckpoint(\"/content/drive/My Drive/ML_Data/fingerprint_CNN/fingerprint_model.h5\", save_best_only=True),\n",
        "]\n",
        "history_CNN = model_CNN.fit(X_train,  y_train, epochs=100,\n",
        "                    validation_split = 0.1,\n",
        "                    callbacks=callbacks)"
      ],
      "execution_count": 8,
      "outputs": [
        {
          "output_type": "stream",
          "text": [
            "W0816 06:12:54.021188 140266618615680 deprecation.py:323] From /usr/local/lib/python3.6/dist-packages/tensorflow/python/ops/nn_impl.py:180: add_dispatch_support.<locals>.wrapper (from tensorflow.python.ops.array_ops) is deprecated and will be removed in a future version.\n",
            "Instructions for updating:\n",
            "Use tf.where in 2.0, which has the same broadcast rule as np.where\n"
          ],
          "name": "stderr"
        },
        {
          "output_type": "stream",
          "text": [
            "Train on 360 samples, validate on 40 samples\n",
            "Epoch 1/100\n",
            "360/360 [==============================] - 1s 4ms/sample - loss: 2.8229 - acc: 0.5361 - val_loss: 1.8502 - val_acc: 0.5000\n",
            "Epoch 2/100\n",
            "360/360 [==============================] - 0s 503us/sample - loss: 0.7954 - acc: 0.5500 - val_loss: 0.6865 - val_acc: 0.5250\n",
            "Epoch 3/100\n",
            "360/360 [==============================] - 0s 477us/sample - loss: 0.6473 - acc: 0.6139 - val_loss: 0.6788 - val_acc: 0.5500\n",
            "Epoch 4/100\n",
            "360/360 [==============================] - 0s 472us/sample - loss: 0.4970 - acc: 0.8056 - val_loss: 0.4129 - val_acc: 0.7250\n",
            "Epoch 5/100\n",
            "360/360 [==============================] - 0s 465us/sample - loss: 0.4573 - acc: 0.7639 - val_loss: 0.3799 - val_acc: 0.8000\n",
            "Epoch 6/100\n",
            "360/360 [==============================] - 0s 461us/sample - loss: 0.3623 - acc: 0.8694 - val_loss: 0.1520 - val_acc: 0.9500\n",
            "Epoch 7/100\n",
            "360/360 [==============================] - 0s 285us/sample - loss: 0.2827 - acc: 0.8889 - val_loss: 0.2814 - val_acc: 0.8750\n",
            "Epoch 8/100\n",
            "360/360 [==============================] - 0s 505us/sample - loss: 0.2706 - acc: 0.9056 - val_loss: 0.1348 - val_acc: 0.9500\n",
            "Epoch 9/100\n",
            "360/360 [==============================] - 0s 286us/sample - loss: 0.1772 - acc: 0.9417 - val_loss: 0.1934 - val_acc: 0.8750\n",
            "Epoch 10/100\n",
            "360/360 [==============================] - 0s 480us/sample - loss: 0.2011 - acc: 0.9250 - val_loss: 0.1208 - val_acc: 0.9500\n",
            "Epoch 11/100\n",
            "360/360 [==============================] - 0s 478us/sample - loss: 0.1599 - acc: 0.9500 - val_loss: 0.0807 - val_acc: 0.9750\n",
            "Epoch 12/100\n",
            "360/360 [==============================] - 0s 290us/sample - loss: 0.1463 - acc: 0.9500 - val_loss: 0.1270 - val_acc: 0.9500\n",
            "Epoch 13/100\n",
            "360/360 [==============================] - 0s 279us/sample - loss: 0.1169 - acc: 0.9639 - val_loss: 0.1342 - val_acc: 0.9500\n",
            "Epoch 14/100\n",
            "360/360 [==============================] - 0s 273us/sample - loss: 0.1170 - acc: 0.9611 - val_loss: 0.0819 - val_acc: 0.9750\n",
            "Epoch 15/100\n",
            "360/360 [==============================] - 0s 291us/sample - loss: 0.1483 - acc: 0.9472 - val_loss: 0.2192 - val_acc: 0.9250\n",
            "Epoch 16/100\n",
            "360/360 [==============================] - 0s 289us/sample - loss: 0.3934 - acc: 0.8278 - val_loss: 0.2952 - val_acc: 0.8750\n"
          ],
          "name": "stdout"
        }
      ]
    },
    {
      "cell_type": "code",
      "metadata": {
        "id": "qSQfexVpORFK",
        "colab_type": "code",
        "outputId": "0116a6c9-c0bc-4673-aafe-fde487efb535",
        "colab": {
          "base_uri": "https://localhost:8080/",
          "height": 139
        }
      },
      "source": [
        "bestModel = keras.models.load_model(\"/content/drive/My Drive/ML_Data/fingerprint_CNN/fingerprint_model.h5\")"
      ],
      "execution_count": 9,
      "outputs": [
        {
          "output_type": "stream",
          "text": [
            "W0816 06:12:58.906234 140266618615680 deprecation.py:506] From /usr/local/lib/python3.6/dist-packages/tensorflow/python/ops/init_ops.py:97: calling GlorotUniform.__init__ (from tensorflow.python.ops.init_ops) with dtype is deprecated and will be removed in a future version.\n",
            "Instructions for updating:\n",
            "Call initializer instance with the dtype argument instead of passing it to the constructor\n",
            "W0816 06:12:58.912732 140266618615680 deprecation.py:506] From /usr/local/lib/python3.6/dist-packages/tensorflow/python/ops/init_ops.py:97: calling Zeros.__init__ (from tensorflow.python.ops.init_ops) with dtype is deprecated and will be removed in a future version.\n",
            "Instructions for updating:\n",
            "Call initializer instance with the dtype argument instead of passing it to the constructor\n"
          ],
          "name": "stderr"
        }
      ]
    },
    {
      "cell_type": "code",
      "metadata": {
        "id": "MSTcBlVtPAiC",
        "colab_type": "code",
        "outputId": "26eb3b63-4452-436b-ef19-d4b58728c43f",
        "colab": {
          "base_uri": "https://localhost:8080/",
          "height": 51
        }
      },
      "source": [
        "test_loss, test_accuracy = bestModel.evaluate(X_test, y_test)\n",
        "\n",
        "print(\"Test loss{} and Test-accuracy {}\".format(test_loss, test_accuracy))"
      ],
      "execution_count": 10,
      "outputs": [
        {
          "output_type": "stream",
          "text": [
            "100/100 [==============================] - 0s 621us/sample - loss: 0.0883 - acc: 0.9700\n",
            "Test loss0.08828805774450302 and Test-accuracy 0.9700000286102295\n"
          ],
          "name": "stdout"
        }
      ]
    },
    {
      "cell_type": "code",
      "metadata": {
        "id": "7fcwfdbqPYA6",
        "colab_type": "code",
        "outputId": "5a073d98-fe15-4900-8631-d50daf6e6b45",
        "colab": {
          "base_uri": "https://localhost:8080/",
          "height": 295
        }
      },
      "source": [
        "pd.DataFrame(history_CNN.history).plot()\n",
        "plt.grid(True)\n",
        "plt.xlabel('epochs')\n",
        "plt.ylabel(\"loss/accuracy\")\n",
        "plt.title(\"Training and Validation plot\")\n",
        "plt.show()"
      ],
      "execution_count": 11,
      "outputs": [
        {
          "output_type": "display_data",
          "data": {
            "image/png": "[encoded data removed]",
            "text/plain": [
              "<Figure size 432x288 with 1 Axes>"
            ]
          },
          "metadata": {
            "tags": []
          }
        }
      ]
    }
  ]
}